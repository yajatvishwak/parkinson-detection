{
  "metadata": {
    "kernelspec": {
      "language": "python",
      "display_name": "Python 3",
      "name": "python3"
    },
    "language_info": {
      "name": "python",
      "version": "3.7.10",
      "mimetype": "text/x-python",
      "codemirror_mode": {
        "name": "ipython",
        "version": 3
      },
      "pygments_lexer": "ipython3",
      "nbconvert_exporter": "python",
      "file_extension": ".py"
    },
    "colab": {
      "name": "parkinson-disease-detection.ipynb",
      "provenance": []
    },
    "accelerator": "GPU"
  },
  "nbformat_minor": 0,
  "nbformat": 4,
  "cells": [
    {
      "cell_type": "code",
      "source": [
        "from google.colab import drive\n",
        "drive.mount('/content/drive')"
      ],
      "metadata": {
        "trusted": true,
        "colab": {
          "base_uri": "https://localhost:8080/"
        },
        "id": "GJm0gfgRdY-r",
        "outputId": "352dbe4b-3d30-4c02-d77e-aac573238d59"
      },
      "execution_count": 1,
      "outputs": [
        {
          "output_type": "stream",
          "name": "stdout",
          "text": [
            "Mounted at /content/drive\n"
          ]
        }
      ]
    },
    {
      "cell_type": "markdown",
      "source": [
        "## Import Libs"
      ],
      "metadata": {
        "id": "mTCGk7lkdY-u"
      }
    },
    {
      "cell_type": "code",
      "source": [
        "import tensorflow as tf\n",
        "from tensorflow import keras\n",
        "import numpy as np\n",
        "import matplotlib.image as mpimg \n",
        "from keras.preprocessing import image\n",
        "from keras import models\n",
        "import matplotlib.pyplot as plt\n",
        "import math\n",
        "from tensorflow.keras.preprocessing.image import ImageDataGenerator\n",
        "from tensorflow.keras.models import Model\n",
        "from tensorflow.keras.layers import Input, Conv2D, Dense, Flatten, MaxPooling2D, Dropout\n",
        "from tensorflow.keras.optimizers import Adam, RMSprop\n",
        "from sklearn.metrics import classification_report, log_loss, accuracy_score\n",
        "from tensorflow.keras import layers"
      ],
      "metadata": {
        "execution": {
          "iopub.status.busy": "2022-01-24T04:55:54.785242Z",
          "iopub.execute_input": "2022-01-24T04:55:54.785707Z",
          "iopub.status.idle": "2022-01-24T04:56:01.358239Z",
          "shell.execute_reply.started": "2022-01-24T04:55:54.785606Z",
          "shell.execute_reply": "2022-01-24T04:56:01.356907Z"
        },
        "trusted": true,
        "id": "F4MLu632dY-1"
      },
      "execution_count": 2,
      "outputs": []
    },
    {
      "cell_type": "code",
      "source": [
        "\n",
        "train_dir = \"/content/drive/MyDrive/spiral2/training\"\n",
        "test_dir  = \"/content/drive/MyDrive/spiral2/testing\"\n",
        "\n",
        "IMG_WIDTH, IMG_HEIGHT = (300, 300)\n",
        "EPOCHS = 50\n",
        "BATCH_SIZE= 16\n",
        "CLASSES_NO = 2"
      ],
      "metadata": {
        "execution": {
          "iopub.status.busy": "2022-01-24T04:56:24.408022Z",
          "iopub.execute_input": "2022-01-24T04:56:24.408481Z",
          "iopub.status.idle": "2022-01-24T04:56:24.416434Z",
          "shell.execute_reply.started": "2022-01-24T04:56:24.408437Z",
          "shell.execute_reply": "2022-01-24T04:56:24.414802Z"
        },
        "trusted": true,
        "id": "b4E1oFOJdY-2"
      },
      "execution_count": 3,
      "outputs": []
    },
    {
      "cell_type": "markdown",
      "source": [
        "## Load dataset"
      ],
      "metadata": {
        "id": "Qdb98cA5dY-3"
      }
    },
    {
      "cell_type": "code",
      "source": [
        "train_datagen_aug = ImageDataGenerator(\n",
        "    rescale=1./255,\n",
        "    horizontal_flip=True,\n",
        "    vertical_flip=True,\n",
        "    shear_range=0.1\n",
        ")\n",
        "\n",
        "test_datagen = ImageDataGenerator(\n",
        "    rescale=1./255\n",
        ")\n",
        "\n",
        "train = train_datagen_aug.flow_from_directory(\n",
        "    train_dir,\n",
        "    target_size=(IMG_WIDTH, IMG_HEIGHT),\n",
        "    batch_size=BATCH_SIZE,\n",
        "    shuffle=True\n",
        ")\n",
        "\n",
        "test = test_datagen.flow_from_directory(\n",
        "    test_dir,\n",
        "    target_size=(IMG_WIDTH, IMG_HEIGHT),\n",
        "    batch_size=BATCH_SIZE,\n",
        ")"
      ],
      "metadata": {
        "execution": {
          "iopub.status.busy": "2022-01-24T04:56:27.761922Z",
          "iopub.execute_input": "2022-01-24T04:56:27.762344Z",
          "iopub.status.idle": "2022-01-24T04:56:27.988103Z",
          "shell.execute_reply.started": "2022-01-24T04:56:27.762292Z",
          "shell.execute_reply": "2022-01-24T04:56:27.987381Z"
        },
        "trusted": true,
        "colab": {
          "base_uri": "https://localhost:8080/"
        },
        "id": "GgCO7H0JdY-3",
        "outputId": "ec20ed52-5bd3-4191-ba96-49f3a8dc31e9"
      },
      "execution_count": 4,
      "outputs": [
        {
          "output_type": "stream",
          "name": "stdout",
          "text": [
            "Found 72 images belonging to 2 classes.\n",
            "Found 30 images belonging to 2 classes.\n"
          ]
        }
      ]
    },
    {
      "cell_type": "code",
      "source": [
        "model = keras.Sequential([\n",
        "        layers.Conv2D(64, (3,3) , activation='relu'),\n",
        "        layers.Conv2D(64, (3,3)  , activation='relu'),\n",
        "        layers.MaxPooling2D(pool_size=(2,2)), \n",
        "        layers.Conv2D(32, (3,3)  , activation='relu'),\n",
        "        layers.Conv2D(32, (3,3)  , activation='relu'),\n",
        "        layers.MaxPooling2D(pool_size=(2,2)),\n",
        "        layers.Flatten(),\n",
        "        layers.Dense(activation =\"relu\", units=128),\n",
        "        layers.Dense(activation =\"relu\", units=128),\n",
        "        layers.Dense(activation =\"relu\", units=64),\n",
        "        layers.Dense(activation =\"relu\", units=64),\n",
        "        layers.Dense(activation=\"sigmoid\", units=1)\n",
        "])\n",
        "\n",
        "model.compile(loss=\"binary_crossentropy\",  optimizer=\"adam\", metrics=['accuracy'])\n",
        "hist = model.fit(\n",
        "        train,\n",
        "        epochs=10,\n",
        "        validation_data=test,\n",
        "        )\n"
      ],
      "metadata": {
        "execution": {
          "iopub.status.busy": "2022-01-24T04:56:50.262488Z",
          "iopub.execute_input": "2022-01-24T04:56:50.262861Z",
          "iopub.status.idle": "2022-01-24T04:56:50.267810Z",
          "shell.execute_reply.started": "2022-01-24T04:56:50.262826Z",
          "shell.execute_reply": "2022-01-24T04:56:50.266568Z"
        },
        "trusted": true,
        "id": "RcjCe-U-dY-5"
      },
      "execution_count": null,
      "outputs": []
    },
    {
      "cell_type": "code",
      "source": [
        "history_dict = hist.history\n",
        "print(history_dict.keys())\n",
        "import matplotlib.pyplot as plt\n",
        "plt.plot(hist.history['accuracy'])\n",
        "plt.plot(hist.history['val_accuracy'])\n",
        "plt.plot(hist.history['loss'], color='green')\n",
        "plt.plot(hist.history['val_loss'], color='red')\n",
        "plt.title('Model Accuracy')\n",
        "plt.show()"
      ],
      "metadata": {
        "id": "c_Jd6QX535Rd"
      },
      "execution_count": null,
      "outputs": []
    },
    {
      "cell_type": "code",
      "source": [
        "from tensorflow.keras.applications import VGG16\n",
        "conv_base = VGG16(\n",
        "    include_top=False,\n",
        "    input_shape=(IMG_WIDTH, IMG_HEIGHT, 3),\n",
        "    weights='imagenet'\n",
        ")"
      ],
      "metadata": {
        "execution": {
          "iopub.status.busy": "2022-01-24T04:58:38.048416Z",
          "iopub.execute_input": "2022-01-24T04:58:38.048808Z",
          "iopub.status.idle": "2022-01-24T04:58:58.381386Z",
          "shell.execute_reply.started": "2022-01-24T04:58:38.048775Z",
          "shell.execute_reply": "2022-01-24T04:58:58.377774Z"
        },
        "trusted": true,
        "id": "e4BMcHimdY-6"
      },
      "execution_count": null,
      "outputs": []
    },
    {
      "cell_type": "code",
      "source": [
        "new_model = keras.Sequential()\n",
        "new_model.add(conv_base)\n",
        "new_model.add(keras.layers.Flatten())\n",
        "new_model.add(keras.layers.Dense(128, activation=\"relu\"))\n",
        "new_model.add(keras.layers.Dense(2, activation='softmax'))\n",
        "\n",
        "conv_base.trainable = False\n",
        "\n",
        "new_model.summary()"
      ],
      "metadata": {
        "trusted": true,
        "id": "slTnIfXldY-7"
      },
      "execution_count": null,
      "outputs": []
    },
    {
      "cell_type": "code",
      "source": [
        "new_model.compile(\n",
        "    optimizer=RMSprop(lr=2e-5),\n",
        "    loss='binary_crossentropy',\n",
        "    metrics=['acc']\n",
        ")"
      ],
      "metadata": {
        "trusted": true,
        "id": "7K7nsw-kdY-7"
      },
      "execution_count": null,
      "outputs": []
    },
    {
      "cell_type": "code",
      "source": [
        "new_hist = new_model.fit(\n",
        "    train,\n",
        "    epochs=20,\n",
        "    batch_size=BATCH_SIZE,\n",
        "    validation_data=test\n",
        ")\n"
      ],
      "metadata": {
        "trusted": true,
        "id": "h05zDq7ddY-7"
      },
      "execution_count": null,
      "outputs": []
    },
    {
      "cell_type": "code",
      "source": [
        "acc = new_hist.history['acc']\n",
        "val_acc = new_hist.history['val_acc']\n",
        "loss = new_hist.history['loss']\n",
        "val_loss = new_hist.history['val_loss']\n",
        "\n",
        "plt.plot(acc, label=\"Accuracy\")\n",
        "plt.plot(val_acc, label=\"Validation Accuracy\")\n",
        "plt.legend()\n",
        "plt.show()\n",
        "\n",
        "\n",
        "plt.plot(loss, label=\"Loss\")\n",
        "plt.plot(val_loss, label=\"Validation Loss\")\n",
        "plt.legend()\n",
        "plt.show()"
      ],
      "metadata": {
        "trusted": true,
        "id": "R3GnHZIHdY-8"
      },
      "execution_count": null,
      "outputs": []
    }
  ]
}